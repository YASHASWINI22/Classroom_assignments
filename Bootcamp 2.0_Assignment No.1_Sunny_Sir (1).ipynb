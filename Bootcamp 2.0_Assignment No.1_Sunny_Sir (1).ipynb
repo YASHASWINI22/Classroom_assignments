{
 "cells": [
  {
   "cell_type": "code",
   "execution_count": 1,
   "metadata": {},
   "outputs": [],
   "source": [
    "#1. Find out all the types of error that we have encountered in our lecture and why? Also include the examples.\n",
    "\n",
    "#Answer\n",
    "#Error1: Variable names are always case sensitive, e.g. Ten, TEN, ten, tEn, teN are considered as different variable names.\n",
    "\n",
    "#Error2: keywords in python are basically reserved names/terms which are specifically used for python.\n",
    "#These reserved words should not be used as variable names, just to keep code clean and understandable\n",
    "\n"
   ]
  },
  {
   "cell_type": "code",
   "execution_count": 2,
   "metadata": {},
   "outputs": [
    {
     "name": "stdout",
     "output_type": "stream",
     "text": [
      "Enter value of A: 12\n",
      "Enter value of B: 12\n",
      "Sum of A and B: 24\n"
     ]
    }
   ],
   "source": [
    "#2. Take input A and B and print their sum, mul, div, square of the nos. \n",
    "\n",
    "A = int(input(\"Enter value of A: \"))\n",
    "B = int(input(\"Enter value of B: \"))\n",
    "print(f\"Sum of A and B: {A+B}\")"
   ]
  },
  {
   "cell_type": "code",
   "execution_count": 3,
   "metadata": {},
   "outputs": [
    {
     "name": "stdout",
     "output_type": "stream",
     "text": [
      "Enter value of A: 23\n",
      "Enter value of B: 34\n",
      "Multiplication of A and B: 782\n"
     ]
    }
   ],
   "source": [
    "A = int(input(\"Enter value of A: \"))\n",
    "B = int(input(\"Enter value of B: \"))\n",
    "\n",
    "print(f\"Multiplication of A and B: {A*B}\")"
   ]
  },
  {
   "cell_type": "code",
   "execution_count": 4,
   "metadata": {},
   "outputs": [
    {
     "name": "stdout",
     "output_type": "stream",
     "text": [
      "Enter value of A: 23\n",
      "Enter value of B: 34\n",
      "Division of A and B: 0.6764705882352942\n"
     ]
    }
   ],
   "source": [
    "A = int(input(\"Enter value of A: \"))\n",
    "B = int(input(\"Enter value of B: \"))\n",
    "\n",
    "print(f\"Division of A and B: {A/B}\")\n"
   ]
  },
  {
   "cell_type": "code",
   "execution_count": 5,
   "metadata": {},
   "outputs": [
    {
     "name": "stdout",
     "output_type": "stream",
     "text": [
      "Enter value of A: 2\n",
      "Enter value of B: 3\n",
      "Square of A and B: (4, 9)\n"
     ]
    }
   ],
   "source": [
    "A = int(input(\"Enter value of A: \"))\n",
    "B = int(input(\"Enter value of B: \"))\n",
    "\n",
    "print(f\"Square of A and B: {A**2, B**2}\")\n",
    "\n",
    "\n"
   ]
  },
  {
   "cell_type": "code",
   "execution_count": 6,
   "metadata": {},
   "outputs": [],
   "source": [
    "#3. How many reserve keywords are there in python and why we should not use them as a variable name.\n",
    "#Answer: Keywords can not be used as variable names, or any other identifiers, as they have special meaning in python \n",
    "#and special function to perform.\n",
    "\n",
    "#and       del       from      not       while    \n",
    "#as        elif      global    or        with     \n",
    "#assert    else      if        pass      yield    \n",
    "#break     except    import    print              \n",
    "#class     exec      in        raise              \n",
    "#continue  finally   is        return             \n",
    "#def       for       lambda    try"
   ]
  },
  {
   "cell_type": "code",
   "execution_count": 7,
   "metadata": {},
   "outputs": [
    {
     "name": "stdout",
     "output_type": "stream",
     "text": [
      "BS.Yashaswini@gmail.com \n",
      "Y.Ashwin@gmail.com \n",
      "G.Pratap@gmail.com\n"
     ]
    }
   ],
   "source": [
    "#4. Create email ids with the user inputs. in the following format - lastname.firstname@gmail.com\n",
    "\n",
    "firstName1, lastName1 = \"Yashaswini\", \"BS\"\n",
    "firstName2, lastName2 = \"Ashwin\", \"Y\"\n",
    "firstName3, lastName3 = \"Pratap\", \"G\"\n",
    "\n",
    "print(f\"{lastName1}.{firstName1}@gmail.com \\n{lastName2}.{firstName2}@gmail.com \\n{lastName3}.{firstName3}@gmail.com\")\n"
   ]
  },
  {
   "cell_type": "code",
   "execution_count": 8,
   "metadata": {},
   "outputs": [
    {
     "name": "stdout",
     "output_type": "stream",
     "text": [
      "Name: Sunny\n",
      "Address: 22/3\n",
      "Earning: 20$\n"
     ]
    }
   ],
   "source": [
    "#5. Try to print the following lines -\n",
    "#Hi I'm Sunny\n",
    "#My address is 22\\3\n",
    "#I earn 20$ daily.\n",
    "\n",
    "#Answer:\n",
    "\n",
    "name = input(\"Name: \")\n",
    "address = input (\"Address: \")\n",
    "daily_earnings = input(\"Earning: \")"
   ]
  },
  {
   "cell_type": "code",
   "execution_count": 9,
   "metadata": {},
   "outputs": [
    {
     "name": "stdout",
     "output_type": "stream",
     "text": [
      "\n",
      "Hi I'm Sunny\n",
      "My address is 22/3\n",
      "I earn 20$ daily.\n"
     ]
    }
   ],
   "source": [
    "print(f\"\"\"\n",
    "Hi I'm {name}\n",
    "My address is {address}\n",
    "I earn {daily_earnings} daily.\"\"\")"
   ]
  },
  {
   "cell_type": "code",
   "execution_count": 2,
   "metadata": {},
   "outputs": [
    {
     "name": "stdout",
     "output_type": "stream",
     "text": [
      "First Name: suraj\n",
      "Last Name: patil\n",
      "Address: bangalore\n",
      "DOB: 2-2-1987\n",
      "Sex: male\n",
      "Blood group: O positive\n",
      "suraj.patil@gmail.com\n"
     ]
    }
   ],
   "source": [
    "#6.Take user input (name, address, date of birth etc) to fill a form for your college and print their email IDs\n",
    "\n",
    "#Answer:\n",
    "\n",
    "firstname = input(\"First Name: \")\n",
    "lastname = input(\"Last Name: \")\n",
    "address = input (\"Address: \")\n",
    "date_of_birth = input(\"DOB: \")\n",
    "sex = input(\"Sex: \")\n",
    "blood_group = input(\"Blood group: \")\n",
    "print(f\"{firstname}.{lastname}@gmail.com\")\n",
    "\n"
   ]
  },
  {
   "cell_type": "code",
   "execution_count": 3,
   "metadata": {},
   "outputs": [],
   "source": [
    "#7. Convert the following - \n",
    "  # \"22.4\" into integer: String can not be an integer, so is the error found.\n",
    "  # \"22\" into complex no.\n"
   ]
  },
  {
   "cell_type": "code",
   "execution_count": 9,
   "metadata": {},
   "outputs": [
    {
     "name": "stdout",
     "output_type": "stream",
     "text": [
      "data type before: <class 'str'>, value of X: \"22.4\" \n"
     ]
    },
    {
     "ename": "ValueError",
     "evalue": "invalid literal for int() with base 10: '22.4'",
     "output_type": "error",
     "traceback": [
      "\u001b[1;31m---------------------------------------------------------------------------\u001b[0m",
      "\u001b[1;31mValueError\u001b[0m                                Traceback (most recent call last)",
      "\u001b[1;32m<ipython-input-9-e94331cf4fb0>\u001b[0m in \u001b[0;36m<module>\u001b[1;34m\u001b[0m\n\u001b[0;32m      3\u001b[0m \u001b[0mX\u001b[0m \u001b[1;33m=\u001b[0m \u001b[1;34m'\"22.4\" '\u001b[0m\u001b[1;33m\u001b[0m\u001b[1;33m\u001b[0m\u001b[0m\n\u001b[0;32m      4\u001b[0m \u001b[0mprint\u001b[0m\u001b[1;33m(\u001b[0m\u001b[1;34mf\"data type before: {type(X)}, value of X: {X}\"\u001b[0m\u001b[1;33m)\u001b[0m\u001b[1;33m\u001b[0m\u001b[1;33m\u001b[0m\u001b[0m\n\u001b[1;32m----> 5\u001b[1;33m \u001b[0mX\u001b[0m \u001b[1;33m=\u001b[0m \u001b[0mint\u001b[0m\u001b[1;33m(\u001b[0m\u001b[1;34m\"22.4\"\u001b[0m\u001b[1;33m)\u001b[0m\u001b[1;33m\u001b[0m\u001b[1;33m\u001b[0m\u001b[0m\n\u001b[0m\u001b[0;32m      6\u001b[0m \u001b[0mprint\u001b[0m\u001b[1;33m(\u001b[0m\u001b[1;34mf\"data type after: {type(X)}, value of X: {X}\"\u001b[0m\u001b[1;33m)\u001b[0m\u001b[1;33m\u001b[0m\u001b[1;33m\u001b[0m\u001b[0m\n",
      "\u001b[1;31mValueError\u001b[0m: invalid literal for int() with base 10: '22.4'"
     ]
    }
   ],
   "source": [
    "#Answer: #string to integer\n",
    "\n",
    "X = '\"22.4\" '\n",
    "print(f\"data type before: {type(X)}, value of X: {X}\")\n",
    "X = int(\"22.4\")\n",
    "print(f\"data type after: {type(X)}, value of X: {X}\")"
   ]
  },
  {
   "cell_type": "code",
   "execution_count": 10,
   "metadata": {},
   "outputs": [
    {
     "name": "stdout",
     "output_type": "stream",
     "text": [
      "data type before: <class 'str'>, value of X: \"22\" \n",
      "data type after: <class 'complex'>, value of X: (22.4+0j)\n"
     ]
    }
   ],
   "source": [
    "# \"22\" into complex no.\n",
    "\n",
    "X = '\"22\" '\n",
    "print(f\"data type before: {type(X)}, value of X: {X}\")\n",
    "X = complex(\"22.4\")\n",
    "print(f\"data type after: {type(X)}, value of X: {X}\")"
   ]
  },
  {
   "cell_type": "code",
   "execution_count": null,
   "metadata": {},
   "outputs": [],
   "source": []
  }
 ],
 "metadata": {
  "kernelspec": {
   "display_name": "Python 3",
   "language": "python",
   "name": "python3"
  },
  "language_info": {
   "codemirror_mode": {
    "name": "ipython",
    "version": 3
   },
   "file_extension": ".py",
   "mimetype": "text/x-python",
   "name": "python",
   "nbconvert_exporter": "python",
   "pygments_lexer": "ipython3",
   "version": "3.8.5"
  }
 },
 "nbformat": 4,
 "nbformat_minor": 4
}

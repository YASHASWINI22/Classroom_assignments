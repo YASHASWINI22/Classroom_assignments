{
 "cells": [
  {
   "cell_type": "code",
   "execution_count": 12,
   "metadata": {},
   "outputs": [
    {
     "name": "stdout",
     "output_type": "stream",
     "text": [
      "4\n"
     ]
    }
   ],
   "source": [
    "#1. write a function which will try to find out length of a string without using an inbuilt len function\n",
    "\n",
    "a = 'Yash'\n",
    "count = 0\n",
    "\n",
    "for i in a:\n",
    "    count+=1\n",
    "print(count)"
   ]
  },
  {
   "cell_type": "code",
   "execution_count": 42,
   "metadata": {},
   "outputs": [
    {
     "name": "stdout",
     "output_type": "stream",
     "text": [
      "[1, 3]\n"
     ]
    }
   ],
   "source": [
    "#2. Write a fucntion which will be able to print an index of list element without using an inbuilt index function\n",
    "\n",
    "dietary_foods = ['Chapati', 'Oats', 'Ragi', 'Oats','Millets']\n",
    "\n",
    "food_indices = []\n",
    "\n",
    "for dietary_food in range(len(dietary_foods)):\n",
    "    if dietary_foods[dietary_food] == 'Oats':\n",
    "        food_indices.append(dietary_food)\n",
    "print(food_indices)\n"
   ]
  },
  {
   "cell_type": "code",
   "execution_count": 30,
   "metadata": {},
   "outputs": [
    {
     "name": "stdout",
     "output_type": "stream",
     "text": [
      "Your Computer Name is:Yashaswini-BS\n",
      "Your Computer IP Address is:192.168.0.107\n"
     ]
    }
   ],
   "source": [
    "#3. Write a fucntion which will be able to print an ip address of your system\n",
    "\n",
    "import socket\n",
    "hostname = socket.gethostname()\n",
    "IPAddr = socket.gethostbyname(hostname)\n",
    " \n",
    "print(\"Your Computer Name is:\" + hostname)\n",
    "print(\"Your Computer IP Address is:\" + IPAddr)"
   ]
  },
  {
   "cell_type": "code",
   "execution_count": 31,
   "metadata": {},
   "outputs": [],
   "source": [
    "#4. Write a fucntion which will shutdown your system\n",
    "\n",
    "import os\n",
    "os.system(\"shutdown /s\")"
   ]
  }
 ],
 "metadata": {
  "kernelspec": {
   "display_name": "Python 3",
   "language": "python",
   "name": "python3"
  },
  "language_info": {
   "codemirror_mode": {
    "name": "ipython",
    "version": 3
   },
   "file_extension": ".py",
   "mimetype": "text/x-python",
   "name": "python",
   "nbconvert_exporter": "python",
   "pygments_lexer": "ipython3",
   "version": "3.8.5"
  }
 },
 "nbformat": 4,
 "nbformat_minor": 4
}
